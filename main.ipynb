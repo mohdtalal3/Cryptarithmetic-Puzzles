{
 "cells": [
  {
   "cell_type": "code",
   "execution_count": null,
   "metadata": {},
   "outputs": [],
   "source": []
  },
  {
   "cell_type": "markdown",
   "metadata": {},
   "source": [
    "# Using CSP"
   ]
  },
  {
   "cell_type": "code",
   "execution_count": 3,
   "metadata": {},
   "outputs": [
    {
     "name": "stdout",
     "output_type": "stream",
     "text": [
      "Solution found:\n",
      "Mapping: {'C': 9, 'D': 1, 'G': 7, 'E': 4, 'A': 5, 'N': 8, 'O': 2, 'R': 6, 'S': 3}\n",
      "CROSS + ROADS = DANGER\n",
      "96233 + 62513 = 158746\n"
     ]
    }
   ],
   "source": [
    "def generate_permutations(choices, length, current=None, all_perms=None):\n",
    "    if current is None:\n",
    "        current = []\n",
    "    if all_perms is None:\n",
    "        all_perms = []\n",
    "\n",
    "    if len(current) == length:\n",
    "        all_perms.append(current.copy())\n",
    "        return all_perms\n",
    "\n",
    "    for choice in choices:\n",
    "        if choice not in current:\n",
    "            current.append(choice)\n",
    "            generate_permutations(choices, length, current, all_perms)\n",
    "            current.pop()\n",
    "\n",
    "    return all_perms\n",
    "\n",
    "def word_to_num(word, letter_to_digit):\n",
    "    return sum(letter_to_digit[letter] * (10 ** idx) for idx, letter in enumerate(reversed(word)))\n",
    "\n",
    "def solve_cryptarithmetic(words, total):\n",
    "    unique_letters = set(''.join(words) + total)\n",
    "    if len(unique_letters) > 10:\n",
    "        return \"No solution: More than 10 unique letters.\"\n",
    "    \n",
    "    letters = list(unique_letters)\n",
    "    digit_choices = list(range(10))\n",
    "    \n",
    "    for perm in generate_permutations(digit_choices, len(letters)):\n",
    "        solution = dict(zip(letters, perm))\n",
    "        \n",
    "        if any(solution[word[0]] == 0 for word in words + (total,)):\n",
    "            continue\n",
    "        \n",
    "        words_values = [word_to_num(word, solution) for word in words]\n",
    "        total_value = word_to_num(total, solution)\n",
    "        \n",
    "        if sum(words_values) == total_value:\n",
    "            return solution, words_values, total_value\n",
    "    \n",
    "    return \"No solution found.\"\n",
    "\n",
    "words = (\"CROSS\", \"ROADS\")\n",
    "total = \"DANGER\"\n",
    "result = solve_cryptarithmetic(words, total=total)\n",
    "if isinstance(result, tuple):\n",
    "    solution, words_values, total_value = result\n",
    "    print(\"Solution found:\")\n",
    "    print(\"Mapping:\", solution)\n",
    "    words_str = ' + '.join(words) + \" = \" + total\n",
    "    words_values_str = ' + '.join(map(str, words_values)) + \" = \" + str(total_value)\n",
    "    print(f\"{words_str}\\n{words_values_str}\")\n",
    "else:\n",
    "    print(result)\n",
    "#cross + roads = danger"
   ]
  },
  {
   "cell_type": "markdown",
   "metadata": {},
   "source": [
    "# Using DFS"
   ]
  },
  {
   "cell_type": "code",
   "execution_count": 4,
   "metadata": {},
   "outputs": [
    {
     "name": "stdout",
     "output_type": "stream",
     "text": [
      "Solution found:\n",
      "Mapping: {'C': 9, 'D': 1, 'G': 7, 'E': 4, 'A': 5, 'N': 8, 'O': 2, 'R': 6, 'S': 3}\n",
      "CROSS + ROADS = DANGER\n",
      "[96233, 62513] = 158746\n"
     ]
    }
   ],
   "source": [
    "def solve_cryptarithmetic_dfs(words, total):\n",
    "    letters = list(set(''.join(words) + total)) \n",
    "    if len(letters) > 10:\n",
    "        return \"No solution: More than 10 unique letters.\"\n",
    "    \n",
    "    letter_to_digit = {}\n",
    "    digit_to_letter = {}\n",
    "\n",
    "    def dfs(index):\n",
    "        if index == len(letters):\n",
    "            sum_words = sum(word_to_num(word, letter_to_digit) for word in words)\n",
    "            sum_total = word_to_num(total, letter_to_digit)\n",
    "            return sum_words == sum_total\n",
    "        \n",
    "        letter = letters[index]\n",
    "        for digit in range(10):\n",
    "            if digit not in digit_to_letter and (digit > 0 or letter not in [word[0] for word in words] + [total[0]]):\n",
    "                letter_to_digit[letter] = digit\n",
    "                digit_to_letter[digit] = letter\n",
    "                if dfs(index + 1):\n",
    "                    return True\n",
    "                del letter_to_digit[letter]\n",
    "                del digit_to_letter[digit]\n",
    "        return False\n",
    "\n",
    "    if dfs(0):\n",
    "        return letter_to_digit\n",
    "    else:\n",
    "        return \"No solution found.\"\n",
    "\n",
    "def word_to_num(word, letter_to_digit):\n",
    "    return sum(letter_to_digit[letter] * (10 ** idx) for idx, letter in enumerate(reversed(word)))\n",
    "\n",
    "\n",
    "words = (\"CROSS\", \"ROADS\")\n",
    "total = \"DANGER\"\n",
    "solution = solve_cryptarithmetic_dfs(words, total)\n",
    "if isinstance(solution, dict):\n",
    "    print(\"Solution found:\")\n",
    "    print(\"Mapping:\", solution)\n",
    "    words_values = [word_to_num(word, solution) for word in words]\n",
    "    total_value = word_to_num(total, solution)\n",
    "    print(f\"{' + '.join(words)} = {total}\\n{words_values} = {total_value}\")\n",
    "else:\n",
    "    print(solution)\n"
   ]
  }
 ],
 "metadata": {
  "kernelspec": {
   "display_name": "Python 3",
   "language": "python",
   "name": "python3"
  },
  "language_info": {
   "codemirror_mode": {
    "name": "ipython",
    "version": 3
   },
   "file_extension": ".py",
   "mimetype": "text/x-python",
   "name": "python",
   "nbconvert_exporter": "python",
   "pygments_lexer": "ipython3",
   "version": "3.12.3"
  }
 },
 "nbformat": 4,
 "nbformat_minor": 2
}
